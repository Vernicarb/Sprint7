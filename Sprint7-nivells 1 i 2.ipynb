{
 "cells": [
  {
   "cell_type": "markdown",
   "metadata": {},
   "source": [
    "# Nivel 1\n",
    "## Exercici 1\n",
    "Calculadora de l'índex de massa corporal\n",
    "\n",
    "Escriu una funció que calculi l'IMC ingressat per l'usuari/ària, és a dir, qui ho executi haurà d'ingressar aquestes dades. \n",
    "La funció ha de classificar el resultat en les seves respectives categories"
   ]
  },
  {
   "cell_type": "code",
   "execution_count": 17,
   "metadata": {},
   "outputs": [
    {
     "name": "stdout",
     "output_type": "stream",
     "text": [
      "Bienvenido/a a la calculadora de Índice de Masa Corporal\n",
      "Tu peso es 70.5 Kg y tu altura es 1.65 m, por lo tanto, tu IMC es 25.9.\n",
      "Tu resultado es: Sobrepeso.\n"
     ]
    }
   ],
   "source": [
    "def calcular_IMC(peso, altura):  \n",
    "    if altura >= 3:  # Si la altura es mayor o igual a 3, asumimos que está en cm y la convertimos a metros\n",
    "        altura = altura / 100  \n",
    "    IMC = round(peso / (altura ** 2), 2)  # Redondeamos el resultado a 2 decimales\n",
    "\n",
    "    # Definir la categoría según el IMC\n",
    "    if IMC < 18.5:\n",
    "        categoria = \"Bajo peso\"\n",
    "    elif 18.5 <= IMC <= 24.9:\n",
    "        categoria = \"Peso normal\"\n",
    "    elif 25 <= IMC <= 29.9:\n",
    "        categoria = \"Sobrepeso\"\n",
    "    else:\n",
    "        categoria = \"Obesidad\"\n",
    "\n",
    "    return IMC, categoria  \n",
    "\n",
    "def datos_usuario():\n",
    "    print(\"Bienvenido/a a la calculadora de Índice de Masa Corporal\")\n",
    "    \n",
    "    peso = float(input(\"Introduce tu peso en kilogramos, por favor: \").replace(\",\", \".\"))\n",
    "    altura = float(input(\"Introduce tu altura en centímetros, por favor: \").replace(\",\", \".\"))\n",
    "    \n",
    "    return peso, altura  # Retorna los datos para que otra función los use\n",
    "\n",
    "def IMC_calculadora():\n",
    "    peso, altura = datos_usuario()  # Obtiene los datos del usuario\n",
    "    IMC, categoria = calcular_IMC(peso, altura)  # Calcula el IMC con esos datos\n",
    "\n",
    "    # Muestro los resultados con los datos del usuario\n",
    "    print(\"Tu peso es \" + str(peso) + \" Kg y tu altura es \" + str(altura) + \" m, por lo tanto, tu IMC es \" + str(IMC) + \".\")\n",
    "    print(\"Tu resultado es: \" + categoria + \".\")\n",
    "\n",
    "# Llamamos a la función principal para ejecutar el programa\n",
    "IMC_calculadora()\n"
   ]
  },
  {
   "cell_type": "markdown",
   "metadata": {},
   "source": [
    "## Exercici 2\n",
    "Convertidor de temperatures.\n",
    "\n",
    "Existeixen diverses unitats de temperatura utilitzades en diferents contextos i regions. Les més comunes són Celsius (°C), Fahrenheit (°F) i Kelvin (K). Selecciona almenys 2 conversors, de tal manera que en introduir una temperatura retorni, com a mínim, dues conversions."
   ]
  },
  {
   "cell_type": "code",
   "execution_count": 28,
   "metadata": {},
   "outputs": [
    {
     "name": "stdout",
     "output_type": "stream",
     "text": [
      "Error: Debes elegir una opción válida (1, 2 o 3).\n",
      "Error: Debes introducir un número válido.\n",
      "La temperatura de 56.0K equivale a: -217.15ºC y a -358.87ºF\n"
     ]
    }
   ],
   "source": [
    "def convertir_temperatura(valor, unidad):  # Definición de la función de conversión de temperaturas, redondeada a 2 dígitos\n",
    "    if unidad == \"C\":  \n",
    "        f = round(valor * 9/5 + 32, 2)  \n",
    "        k = round(valor + 273.15, 2)  \n",
    "        return f, k  \n",
    "    elif unidad == \"F\":  \n",
    "        c = round((valor - 32) * 5/9, 2)  \n",
    "        k = round((valor + 459.67) * 5/9, 2)  \n",
    "        return c, k  \n",
    "    elif unidad == \"K\":  \n",
    "        c = round(valor - 273.15, 2)  \n",
    "        f = round(valor * 9/5 - 459.67, 2)  \n",
    "        return c, f  \n",
    "\n",
    "def pedir_datos():  #Función para pedir al usuario los datos de unidad de temperatura y valor a convertir\n",
    "    while True:  \n",
    "        opcion = input(  \n",
    "            \"Elige la unidad en la que introducirás la temperatura:\\n\"  \n",
    "            \"1 - Celsius (°C)\\n\"  \n",
    "            \"2 - Fahrenheit (°F)\\n\"  \n",
    "            \"3 - Kelvin (K)\\n\"  \n",
    "            \"Introduce el número de la unidad que deseas usar: \").strip()  \n",
    "\n",
    "        if opcion == \"1\":  \n",
    "            unidad = \"C\"  \n",
    "            break  \n",
    "        elif opcion == \"2\":  \n",
    "            unidad = \"F\"  \n",
    "            break  \n",
    "        elif opcion == \"3\":  \n",
    "            unidad = \"K\"  \n",
    "            break  \n",
    "        else:  \n",
    "            print(\"Error: Debes elegir una opción válida (1, 2 o 3).\")\n",
    "\n",
    "    while True:  \n",
    "        temperatura = input(f\"Introduce la temperatura en {unidad}: \").replace(\",\", \".\")  \n",
    "        try:  \n",
    "            valor = float(temperatura)  \n",
    "            break  \n",
    "        except ValueError:  \n",
    "            print(\"Error: Debes introducir un número válido.\")  \n",
    "\n",
    "    return valor, unidad  \n",
    "\n",
    "def conversor_temperatura():  #Función principal que llama a las otras funciones y muestra los resultados según los datos introducidos anteriormente por el usuario\n",
    "    valor, unidad = pedir_datos()  \n",
    "    temp1, temp2 = convertir_temperatura(valor, unidad)  \n",
    "\n",
    "    if unidad == \"C\":  \n",
    "        print(\"La temperatura de \" + str(valor) + \"ºC equivale a: \" + str(temp1) + \"ºF y a \" + str(temp2) + \"K\")  \n",
    "    elif unidad == \"F\":  \n",
    "        print(\"La temperatura de \" + str(valor) + \"ºF equivale a: \" + str(temp1) + \"ºC y a \" + str(temp2) + \"K\")  \n",
    "    elif unidad == \"K\":  \n",
    "        print(\"La temperatura de \" + str(valor) + \"K equivale a: \" + str(temp1) + \"ºC y a \" + str(temp2) + \"ºF\")  \n",
    "\n",
    "# Llamamos a la función principal para ejecutar el programa\n",
    "conversor_temperatura()\n"
   ]
  },
  {
   "cell_type": "markdown",
   "metadata": {},
   "source": [
    "## Exercici 3\n",
    "Comptador de paraules d'un text.\n",
    "\n",
    "Escriu una funció que donat un text, mostri les vegades que apareix cada paraula."
   ]
  },
  {
   "cell_type": "code",
   "execution_count": 25,
   "metadata": {},
   "outputs": [
    {
     "name": "stdout",
     "output_type": "stream",
     "text": [
      "Gracias por tu texto. Aqui tienes los resultados:\n",
      "La palabra 'hola' aparece 3 veces\n",
      "La palabra 'que' aparece 1 veces\n",
      "La palabra 'tal' aparece 1 veces\n"
     ]
    }
   ],
   "source": [
    "import string #para usar la biblioteca string para string.punctuation (todos los signos de puntuación)\n",
    "\n",
    "def contar_palabras_texto(texto): #Defino la función que, dado un texto, contará las veces que aparece cada palabra\n",
    "    texto = texto.lower() \n",
    "\n",
    "    translator = str.maketrans('', '', string.punctuation) # Eliminar signos de puntuación para que no los cuente como palabras extra\n",
    "    texto = texto.translate(translator)\n",
    "\n",
    "    palabras = texto.split()\n",
    "    contar_palabras = {}\n",
    "\n",
    "# Dentro de la función, para contar palabras, uso un bucle for: (if) si ya está la palabra en el diccionario +1 = la suma, (else) sino está 1 = la añade\n",
    "\n",
    "    for palabra in palabras:\n",
    "        if palabra in contar_palabras:  \n",
    "            contar_palabras[palabra] += 1\n",
    "        else:\n",
    "            contar_palabras[palabra] = 1\n",
    "\n",
    "    return contar_palabras\n"
   ]
  },
  {
   "cell_type": "code",
   "execution_count": null,
   "metadata": {},
   "outputs": [],
   "source": [
    "\n",
    "texto =(input(f\"Escribe un texto y te contaré el número de veces que se repite cada palabra\"))\n",
    "\n",
    "resultado= contar_palabras_texto(texto)\n",
    "\n",
    "print(f\"Gracias por tu texto. Aqui tienes los resultados:\")\n",
    "\n",
    "for palabra, cantidad in resultado.items():\n",
    "    print(f\"La palabra '{palabra}' aparece {cantidad} veces\")"
   ]
  },
  {
   "cell_type": "markdown",
   "metadata": {},
   "source": [
    "## Exercici 4\n",
    "Diccionari invers.\n",
    "\n",
    "Resulta que el client té una enquesta molt antiga que s'emmagatzema en un diccionari i els resultats els necessita al revés, és a dir, intercanviats les claus i els valors. Els valors i claus en el diccionari original són únics; si aquest no és el cas, la funció hauria d'imprimir un missatge d'advertiment."
   ]
  },
  {
   "cell_type": "code",
   "execution_count": 26,
   "metadata": {},
   "outputs": [
    {
     "name": "stdout",
     "output_type": "stream",
     "text": [
      "Error: hay valores duplicados en el diccionario, no se puede invertir.\n"
     ]
    }
   ],
   "source": [
    "# Primero defino la función que va a invertir el diccionario, teniendo en cuenta que si hay duplicados, lance el error y sino, que muestre el diccionario invertido:\n",
    "\n",
    "def diccionario_invertido(diccionario):\n",
    "    valores = list (diccionario.values()) # se crea una lista con los valores para comprobar si hay duplicados\n",
    "    if len (valores) != len(set(valores)): # set elimina valores repetidos de esta lista\n",
    "        print(\"Error: hay valores duplicados en el diccionario, no se puede invertir.\")\n",
    "        return None # si hay duplicados, solo devuelve el error, no el diccionario invertido\n",
    "\n",
    "    return{valor:clave for clave, valor in diccionario.items()}\n",
    "\n",
    "# Creo el diccionario original \n",
    "diccionario = {\n",
    "    \"Nombre\" : \"Verónica\",\n",
    "    \"Primer Apellido\": \"Ruiz\",\n",
    "    \"Segundo Apellido\": \"Ruiz\"\n",
    "}\n",
    "# el nuevo diccionario llamará a la función para invertir el diccionario original:\n",
    "\n",
    "nuevo_diccionario = diccionario_invertido(diccionario)\n",
    "\n",
    "if nuevo_diccionario is not None: # Sino hay error, imprime el diccionario invertido\n",
    "    print(f\"Diccionario invertido:\",nuevo_diccionario)"
   ]
  },
  {
   "cell_type": "markdown",
   "metadata": {},
   "source": [
    "# Nivel 2\n",
    "## Exercici 1\n",
    "\n",
    "Diccionari invers amb duplicats\n",
    "\n",
    "Continuant amb l'exercici 4 del nivell 1: al client es va oblidar de comentar un detall i resulta que els valors en el diccionari original poden duplicar-se i més, per la qual cosa les claus intercanviades poden tenir duplicats. En aquest cas, en l'exercici anterior imprimies un missatge d'advertiment, ara, els valors del diccionari resultant hauran d'emmagatzemar-se com una llista. Tingues en compte que si és un valor únic no ha de ser una llista."
   ]
  },
  {
   "cell_type": "code",
   "execution_count": 38,
   "metadata": {},
   "outputs": [
    {
     "name": "stdout",
     "output_type": "stream",
     "text": [
      "{'Verónica': 'Nombre', 'Ruiz': ['Primer Apellido', 'Segundo Apellido'], 'Barcelona': 'Ciudad'}\n"
     ]
    }
   ],
   "source": [
    "# 1o defino la función que va a invertir el diccionario, si hay duplicados, los agrege a una lista, y sino, muestre el diccionario invertido:\n",
    "\n",
    "def diccionario_invertido(diccionario):\n",
    "    diccionario_nuevo = {} # se crea el diccionario nuevo que contendrá la lista de valores duplicados\n",
    "\n",
    "    for clave, valor in diccionario.items():\n",
    "        if valor in diccionario_nuevo:\n",
    "            if isinstance(diccionario_nuevo[valor], list):\n",
    "                diccionario_nuevo[valor].append(clave)  # Si ya es una lista, añadimos la clave\n",
    "            else:\n",
    "                diccionario_nuevo[valor] = [diccionario_nuevo[valor], clave]  # Si no es lista, convertimos en lista y se añade la clave\n",
    "        else:\n",
    "            diccionario_nuevo[valor] = clave  # Si no existe, lo agregamos como valor único\n",
    "\n",
    "    return diccionario_nuevo\n",
    "\n",
    "# Creamos el diccionario original\n",
    "diccionario = {\n",
    "    \"Nombre\": \"Verónica\",\n",
    "    \"Primer Apellido\": \"Ruiz\",\n",
    "    \"Segundo Apellido\": \"Ruiz\",\n",
    "    \"Ciudad\": \"Barcelona\"\n",
    "}\n",
    "\n",
    "# Llamamos a la función para invertir el diccionario:\n",
    "diccionario_invertido_resultado = diccionario_invertido(diccionario)\n",
    "\n",
    "# Mostramos el resultado\n",
    "print(diccionario_invertido_resultado)"
   ]
  },
  {
   "cell_type": "markdown",
   "metadata": {},
   "source": [
    "## Exercici 2\n",
    "Conversió de tipus de dades\n",
    "\n",
    "El client rep una llista de dades i necessita generar dues llistes, la primera on estaran tots els elements que es van poder convertir en flotants i l'altra on estan els elements que no es van poder convertir. Exemple de la llista que rep el client: [ '1.3', 'one' , '1e10' , 'seven', '3-1/2', ('2',1,1.4,'not-a-number'), [1,2,'3','3.4']]"
   ]
  },
  {
   "cell_type": "code",
   "execution_count": 26,
   "metadata": {},
   "outputs": [
    {
     "name": "stdout",
     "output_type": "stream",
     "text": [
      "Lista original:['1.3', 'one', '1e10', 'seven', '3-1/2', ('2', 1, 1.4, 'not-a-number'), [1, 2, '3', '3.4']]\n",
      "Números convertidos a float: [1.3, 10000000000.0, 2.0, 1.0, 1.4, 1.0, 2.0, 3.0, 3.4]\n",
      "Elementos no convertibles: ['one', 'seven', '3-1/2', 'not-a-number']\n"
     ]
    }
   ],
   "source": [
    "# Vamos a recorrer la lista original y clasificar los elementos en dos listas:\n",
    "def revision_lista(lista_original):\n",
    "    float_list = []  # elementos convertibles a float\n",
    "    no_float_list = []  # elementos no convertibles a float\n",
    "\n",
    "    # Recorremos cada elemento de la lista original\n",
    "    for elemento in lista_original:\n",
    "        if isinstance(elemento, (list, tuple)):  # Si el elemento es una lista o tupla\n",
    "            for sub_elemento in elemento:  # Recorremos los subelementos \n",
    "                try:\n",
    "                    float(sub_elemento) #intentamos convertir a float\n",
    "                    float_list.append(float(sub_elemento))  # Si es un número, lo añadimos a la lista float_list\n",
    "                except ValueError:\n",
    "                    no_float_list.append(sub_elemento)  # Si no es un número, lo añadimos a la lista no_float_list\n",
    "        else:  # Si el elemento no es una lista ni una tupla\n",
    "            try:\n",
    "                    float(elemento) #intentamos convertir a float\n",
    "                    float_list.append(float(elemento))  # Si es un número, lo añadimos a la lista float_list\n",
    "            except ValueError:\n",
    "                    no_float_list.append(elemento)  # Si no es un número, lo añadimos a la lista no_float_list\n",
    "\n",
    "    return float_list, no_float_list  # Devolvemos ambas listas\n",
    "\n",
    "# Lista original \n",
    "lista_original = ['1.3', 'one', '1e10', 'seven', '3-1/2', ('2', 1, 1.4, 'not-a-number'), [1, 2, '3', '3.4']]\n",
    "\n",
    "# Llamamos a la función para procesar la lista original\n",
    "float_list, no_float_list = revision_lista(lista_original)\n",
    "\n",
    "print(f\"Lista original:{lista_original}\")\n",
    "print(f\"Números convertidos a float:\", float_list)\n",
    "print(f\"Elementos no convertibles:\", no_float_list)\n"
   ]
  }
 ],
 "metadata": {
  "kernelspec": {
   "display_name": "myenv",
   "language": "python",
   "name": "python3"
  },
  "language_info": {
   "codemirror_mode": {
    "name": "ipython",
    "version": 3
   },
   "file_extension": ".py",
   "mimetype": "text/x-python",
   "name": "python",
   "nbconvert_exporter": "python",
   "pygments_lexer": "ipython3",
   "version": "3.10.15"
  }
 },
 "nbformat": 4,
 "nbformat_minor": 2
}
